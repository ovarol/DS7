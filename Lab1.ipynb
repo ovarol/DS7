{
 "cells": [
  {
   "cell_type": "markdown",
   "id": "4e492896",
   "metadata": {},
   "source": [
    "# **1.Markdown cell**\n",
    "\n",
    "\n",
    "- Hi! It is main akademy?\n",
    "\n",
    "- All HTML tabs is supported\n",
    "\n",
    "-[Моя сторінка на пінкедін](Пінкедін)\n",
    "\n",
    "\n",
    "# **This is heading1**\n",
    "\n",
    "\n",
    "## **This is heading2**\n",
    "\n",
    "Some grey colored text  \n",
    "\n",
    ">This is where we can bringe goutes and presents them nicely\n",
    "And this is paragraph about somethinge very important then math  \n",
    "\n",
    "Or Phyton code example  \n",
    "\n",
    "```Phyton  \n",
    "import math\n",
    "def foo():\n",
    "    return \"foo\"```\n",
    "    "
   ]
  },
  {
   "cell_type": "code",
   "execution_count": null,
   "id": "51bb1aec",
   "metadata": {},
   "outputs": [],
   "source": []
  }
 ],
 "metadata": {
  "kernelspec": {
   "display_name": "Python 3",
   "language": "python",
   "name": "python3"
  },
  "language_info": {
   "codemirror_mode": {
    "name": "ipython",
    "version": 3
   },
   "file_extension": ".py",
   "mimetype": "text/x-python",
   "name": "python",
   "nbconvert_exporter": "python",
   "pygments_lexer": "ipython3",
   "version": "3.8.8"
  }
 },
 "nbformat": 4,
 "nbformat_minor": 5
}
